{
 "cells": [
  {
   "cell_type": "markdown",
   "source": [
    "Exercise 1 - Group 23"
   ],
   "metadata": {
    "collapsed": false
   }
  },
  {
   "cell_type": "code",
   "execution_count": 17,
   "metadata": {
    "collapsed": true,
    "ExecuteTime": {
     "start_time": "2023-04-10T22:10:40.559754Z",
     "end_time": "2023-04-10T22:10:40.604758Z"
    }
   },
   "outputs": [],
   "source": [
    "import torch\n",
    "import torchvision\n",
    "import torchvision.transforms as transforms\n",
    "import torch.nn as nn\n",
    "import torch.nn.functional as F\n",
    "import torch.optim as optim\n",
    "from torch.utils.tensorboard import SummaryWriter"
   ]
  },
  {
   "cell_type": "markdown",
   "source": [
    "#### Loading the data"
   ],
   "metadata": {
    "collapsed": false
   }
  },
  {
   "cell_type": "code",
   "execution_count": 18,
   "outputs": [
    {
     "name": "stdout",
     "output_type": "stream",
     "text": [
      "Files already downloaded and verified\n",
      "Files already downloaded and verified\n"
     ]
    }
   ],
   "source": [
    "transform = transforms.Compose([transforms.ToTensor(), transforms.Normalize((0.5, 0.5, 0.5), (0.5, 0.5, 0.5))])\n",
    "batch_size = 4\n",
    "\n",
    "trainset = torchvision.datasets.CIFAR10(root='./data', train=True, download=True, transform=transform)\n",
    "trainloader = torch.utils.data.DataLoader(trainset, batch_size=batch_size, shuffle=True, num_workers=0)\n",
    "\n",
    "testset = torchvision.datasets.CIFAR10(root='./data', train=False, download=True, transform=transform)\n",
    "testloader = torch.utils.data.DataLoader(testset, batch_size=batch_size, shuffle=False, num_workers=0)\n",
    "\n",
    "classes = ('plane', 'car', 'bird', 'cat', 'deer', 'dog', 'frog', 'horse', 'ship', 'truck')"
   ],
   "metadata": {
    "collapsed": false,
    "ExecuteTime": {
     "start_time": "2023-04-10T22:10:40.571757Z",
     "end_time": "2023-04-10T22:10:41.909914Z"
    }
   }
  },
  {
   "cell_type": "markdown",
   "source": [
    "#### Network class"
   ],
   "metadata": {
    "collapsed": false
   }
  },
  {
   "cell_type": "code",
   "execution_count": 19,
   "outputs": [],
   "source": [
    "class Net(nn.Module):\n",
    "    def __init__(self):\n",
    "        super().__init__()\n",
    "        self.conv1 = nn.Conv2d(3, 6, 5)\n",
    "        self.pool = nn.MaxPool2d(2, 2)\n",
    "        self.conv2 = nn.Conv2d(6, 16, 5)\n",
    "        self.fc1 = nn.Linear(16 * 5 * 5, 120)\n",
    "        self.fc2 = nn.Linear(120, 84)\n",
    "        self.fc3 = nn.Linear(84, 10)\n",
    "\n",
    "    def forward(self, x):\n",
    "        x = self.pool(F.leaky_relu(self.conv1(x)))\n",
    "        x = self.pool(F.leaky_relu(self.conv2(x)))\n",
    "        x = torch.flatten(x, 1)  # flatten all dimensions except batch\n",
    "        x = F.leaky_relu(self.fc1(x))\n",
    "        x = F.leaky_relu(self.fc2(x))\n",
    "        x = self.fc3(x)\n",
    "        return x"
   ],
   "metadata": {
    "collapsed": false,
    "ExecuteTime": {
     "start_time": "2023-04-10T22:10:41.912914Z",
     "end_time": "2023-04-10T22:10:41.925467Z"
    }
   }
  },
  {
   "cell_type": "markdown",
   "source": [
    "#### Training the network with SGD"
   ],
   "metadata": {
    "collapsed": false
   }
  },
  {
   "cell_type": "code",
   "execution_count": 20,
   "outputs": [
    {
     "name": "stdout",
     "output_type": "stream",
     "text": [
      "[1,  2000] loss: 2.309\n",
      "[1,  4000] loss: 2.309\n",
      "[1,  6000] loss: 2.306\n",
      "[1,  8000] loss: 2.306\n",
      "[1, 10000] loss: 2.307\n",
      "[1, 12000] loss: 2.305\n",
      "[2,  2000] loss: 2.306\n",
      "[2,  4000] loss: 2.303\n",
      "[2,  6000] loss: 2.304\n",
      "[2,  8000] loss: 2.303\n",
      "[2, 10000] loss: 2.303\n",
      "[2, 12000] loss: 2.303\n",
      "[3,  2000] loss: 2.302\n",
      "[3,  4000] loss: 2.303\n",
      "[3,  6000] loss: 2.302\n",
      "[3,  8000] loss: 2.301\n",
      "[3, 10000] loss: 2.301\n",
      "[3, 12000] loss: 2.302\n",
      "[4,  2000] loss: 2.301\n",
      "[4,  4000] loss: 2.300\n",
      "[4,  6000] loss: 2.299\n",
      "[4,  8000] loss: 2.299\n",
      "[4, 10000] loss: 2.299\n",
      "[4, 12000] loss: 2.297\n",
      "[5,  2000] loss: 2.297\n",
      "[5,  4000] loss: 2.297\n",
      "[5,  6000] loss: 2.296\n",
      "[5,  8000] loss: 2.296\n",
      "[5, 10000] loss: 2.295\n",
      "[5, 12000] loss: 2.295\n",
      "[6,  2000] loss: 2.294\n",
      "[6,  4000] loss: 2.293\n",
      "[6,  6000] loss: 2.292\n",
      "[6,  8000] loss: 2.291\n",
      "[6, 10000] loss: 2.289\n",
      "[6, 12000] loss: 2.288\n",
      "[7,  2000] loss: 2.287\n",
      "[7,  4000] loss: 2.284\n",
      "[7,  6000] loss: 2.283\n",
      "[7,  8000] loss: 2.281\n",
      "[7, 10000] loss: 2.279\n",
      "[7, 12000] loss: 2.275\n",
      "[8,  2000] loss: 2.271\n",
      "[8,  4000] loss: 2.266\n",
      "[8,  6000] loss: 2.263\n",
      "[8,  8000] loss: 2.258\n",
      "[8, 10000] loss: 2.252\n",
      "[8, 12000] loss: 2.242\n",
      "[9,  2000] loss: 2.233\n",
      "[9,  4000] loss: 2.220\n",
      "[9,  6000] loss: 2.209\n",
      "[9,  8000] loss: 2.199\n",
      "[9, 10000] loss: 2.183\n",
      "[9, 12000] loss: 2.168\n",
      "[10,  2000] loss: 2.155\n",
      "[10,  4000] loss: 2.145\n",
      "[10,  6000] loss: 2.131\n",
      "[10,  8000] loss: 2.132\n",
      "[10, 10000] loss: 2.114\n",
      "[10, 12000] loss: 2.118\n",
      "Finished Training\n"
     ]
    }
   ],
   "source": [
    "# Logging for tensorboard\n",
    "writer = SummaryWriter()\n",
    "\n",
    "model = Net()\n",
    "criterion = nn.CrossEntropyLoss()\n",
    "optimizer = optim.SGD(model.parameters(), lr=0.0001)\n",
    "\n",
    "for epoch in range(10):  # loop over the dataset multiple times\n",
    "    running_loss = 0.0\n",
    "    for i, data in enumerate(trainloader):\n",
    "        inputs, labels = data\n",
    "\n",
    "        optimizer.zero_grad()\n",
    "\n",
    "        # forward + backward + optimize\n",
    "        outputs = model(inputs)\n",
    "        loss = criterion(outputs, labels)\n",
    "        writer.add_scalar(\"Loss/train (SGD)\", loss, epoch*len(trainloader)+i)\n",
    "        loss.backward()\n",
    "        optimizer.step()\n",
    "\n",
    "        # print statistics\n",
    "        running_loss += loss.item()\n",
    "        if i % 2000 == 1999:  # print every 2000 mini-batches\n",
    "            print(f'[{epoch + 1}, {i + 1:5d}] loss: {running_loss / 2000:.3f}')\n",
    "            running_loss = 0.0\n",
    "\n",
    "print('Finished Training')\n",
    "model_dict = model.state_dict()\n",
    "writer.flush()\n",
    "writer.close()"
   ],
   "metadata": {
    "collapsed": false,
    "ExecuteTime": {
     "start_time": "2023-04-10T22:10:41.925467Z",
     "end_time": "2023-04-10T22:15:38.146037Z"
    }
   }
  },
  {
   "cell_type": "markdown",
   "source": [
    "#### Testing the network with SGD"
   ],
   "metadata": {
    "collapsed": false
   }
  },
  {
   "cell_type": "code",
   "execution_count": 21,
   "outputs": [
    {
     "name": "stdout",
     "output_type": "stream",
     "text": [
      "Accuracy for class: plane is 21.2 %\n",
      "Accuracy for class: car   is 10.2 %\n",
      "Accuracy for class: bird  is 0.1 %\n",
      "Accuracy for class: cat   is 17.4 %\n",
      "Accuracy for class: deer  is 0.0 %\n",
      "Accuracy for class: dog   is 8.3 %\n",
      "Accuracy for class: frog  is 69.6 %\n",
      "Accuracy for class: horse is 11.8 %\n",
      "Accuracy for class: ship  is 54.3 %\n",
      "Accuracy for class: truck is 43.4 %\n",
      "Total accuracy: 23.6 %\n"
     ]
    }
   ],
   "source": [
    "dataiter = iter(testloader)\n",
    "images, labels = next(dataiter)\n",
    "\n",
    "model2 = Net()\n",
    "model2.load_state_dict(model_dict)\n",
    "correct_pred = {classname: 0 for classname in classes}\n",
    "total_pred = {classname: 0 for classname in classes}\n",
    "# Learning off\n",
    "with torch.no_grad():\n",
    "    for data in testloader:\n",
    "        images, labels = data\n",
    "        outputs = model2(images)\n",
    "        _, preds = torch.max(outputs.data, 1)\n",
    "        for label, pred in zip(labels, preds):\n",
    "            if label == pred:\n",
    "                correct_pred[classes[label]] += 1\n",
    "            total_pred[classes[label]] += 1\n",
    "\n",
    "accs = []\n",
    "for classname, correct_count in correct_pred.items():\n",
    "    accuracy = 100 * float(correct_count) / total_pred[classname]\n",
    "    accs.append(accuracy)\n",
    "    print(f'Accuracy for class: {classname:5s} is {accuracy:.1f} %')\n",
    "avg_acc = sum(accs) / len(accs)\n",
    "print(f'Total accuracy: {avg_acc:.1f} %')"
   ],
   "metadata": {
    "collapsed": false,
    "ExecuteTime": {
     "start_time": "2023-04-10T22:15:38.149037Z",
     "end_time": "2023-04-10T22:15:40.792424Z"
    }
   }
  },
  {
   "cell_type": "markdown",
   "source": [
    "Using SGD as the optimizer and LeakyReLU as the activation function, the model achieved 23.6% testing accuracy."
   ],
   "metadata": {
    "collapsed": false
   }
  },
  {
   "cell_type": "markdown",
   "source": [
    "#### Training the network with Adam"
   ],
   "metadata": {
    "collapsed": false
   }
  },
  {
   "cell_type": "code",
   "execution_count": 22,
   "outputs": [
    {
     "name": "stdout",
     "output_type": "stream",
     "text": [
      "[1,  2000] loss: 2.032\n",
      "[1,  4000] loss: 1.788\n",
      "[1,  6000] loss: 1.723\n",
      "[1,  8000] loss: 1.658\n",
      "[1, 10000] loss: 1.652\n",
      "[1, 12000] loss: 1.605\n",
      "[2,  2000] loss: 1.545\n",
      "[2,  4000] loss: 1.523\n",
      "[2,  6000] loss: 1.521\n",
      "[2,  8000] loss: 1.461\n",
      "[2, 10000] loss: 1.465\n",
      "[2, 12000] loss: 1.431\n",
      "[3,  2000] loss: 1.421\n",
      "[3,  4000] loss: 1.405\n",
      "[3,  6000] loss: 1.371\n",
      "[3,  8000] loss: 1.387\n",
      "[3, 10000] loss: 1.376\n",
      "[3, 12000] loss: 1.358\n",
      "[4,  2000] loss: 1.322\n",
      "[4,  4000] loss: 1.307\n",
      "[4,  6000] loss: 1.326\n",
      "[4,  8000] loss: 1.307\n",
      "[4, 10000] loss: 1.286\n",
      "[4, 12000] loss: 1.307\n",
      "[5,  2000] loss: 1.272\n",
      "[5,  4000] loss: 1.272\n",
      "[5,  6000] loss: 1.241\n",
      "[5,  8000] loss: 1.264\n",
      "[5, 10000] loss: 1.225\n",
      "[5, 12000] loss: 1.205\n",
      "[6,  2000] loss: 1.185\n",
      "[6,  4000] loss: 1.195\n",
      "[6,  6000] loss: 1.190\n",
      "[6,  8000] loss: 1.210\n",
      "[6, 10000] loss: 1.204\n",
      "[6, 12000] loss: 1.185\n",
      "[7,  2000] loss: 1.132\n",
      "[7,  4000] loss: 1.163\n",
      "[7,  6000] loss: 1.133\n",
      "[7,  8000] loss: 1.148\n",
      "[7, 10000] loss: 1.157\n",
      "[7, 12000] loss: 1.140\n",
      "[8,  2000] loss: 1.105\n",
      "[8,  4000] loss: 1.118\n",
      "[8,  6000] loss: 1.091\n",
      "[8,  8000] loss: 1.098\n",
      "[8, 10000] loss: 1.093\n",
      "[8, 12000] loss: 1.102\n",
      "[9,  2000] loss: 1.056\n",
      "[9,  4000] loss: 1.062\n",
      "[9,  6000] loss: 1.098\n",
      "[9,  8000] loss: 1.064\n",
      "[9, 10000] loss: 1.057\n",
      "[9, 12000] loss: 1.060\n",
      "[10,  2000] loss: 1.011\n",
      "[10,  4000] loss: 1.028\n",
      "[10,  6000] loss: 1.017\n",
      "[10,  8000] loss: 1.023\n",
      "[10, 10000] loss: 1.057\n",
      "[10, 12000] loss: 1.046\n",
      "Finished Training\n"
     ]
    }
   ],
   "source": [
    "# Logging for tensorboard\n",
    "writer = SummaryWriter()\n",
    "\n",
    "model = Net()\n",
    "criterion = nn.CrossEntropyLoss()\n",
    "optimizer = optim.Adam(model.parameters(), lr=0.0001)\n",
    "\n",
    "for epoch in range(10):  # loop over the dataset multiple times\n",
    "    running_loss = 0.0\n",
    "    for i, data in enumerate(trainloader):\n",
    "        inputs, labels = data\n",
    "\n",
    "        optimizer.zero_grad()\n",
    "\n",
    "        # forward + backward + optimize\n",
    "        outputs = model(inputs)\n",
    "        loss = criterion(outputs, labels)\n",
    "        writer.add_scalar(\"Loss/train (Adam)\", loss, epoch*len(trainloader)+i)\n",
    "        loss.backward()\n",
    "        optimizer.step()\n",
    "\n",
    "        # print statistics\n",
    "        running_loss += loss.item()\n",
    "        if i % 2000 == 1999:  # print every 2000 mini-batches\n",
    "            print(f'[{epoch + 1}, {i + 1:5d}] loss: {running_loss / 2000:.3f}')\n",
    "            running_loss = 0.0\n",
    "\n",
    "print('Finished Training')\n",
    "model_dict = model.state_dict()\n",
    "writer.flush()\n",
    "writer.close()"
   ],
   "metadata": {
    "collapsed": false,
    "ExecuteTime": {
     "start_time": "2023-04-10T22:15:40.795424Z",
     "end_time": "2023-04-10T22:21:50.481314Z"
    }
   }
  },
  {
   "cell_type": "markdown",
   "source": [],
   "metadata": {
    "collapsed": false
   }
  },
  {
   "cell_type": "code",
   "execution_count": 23,
   "outputs": [],
   "source": [
    "#### Testing the network with Adam"
   ],
   "metadata": {
    "collapsed": false,
    "ExecuteTime": {
     "start_time": "2023-04-10T22:21:50.482427Z",
     "end_time": "2023-04-10T22:21:50.498669Z"
    }
   }
  },
  {
   "cell_type": "code",
   "execution_count": 24,
   "outputs": [
    {
     "name": "stdout",
     "output_type": "stream",
     "text": [
      "Accuracy for class: plane is 69.3 %\n",
      "Accuracy for class: car   is 67.1 %\n",
      "Accuracy for class: bird  is 35.3 %\n",
      "Accuracy for class: cat   is 41.0 %\n",
      "Accuracy for class: deer  is 64.1 %\n",
      "Accuracy for class: dog   is 62.1 %\n",
      "Accuracy for class: frog  is 68.5 %\n",
      "Accuracy for class: horse is 59.9 %\n",
      "Accuracy for class: ship  is 70.7 %\n",
      "Accuracy for class: truck is 70.8 %\n",
      "Total accuracy: 60.9 %\n"
     ]
    }
   ],
   "source": [
    "dataiter = iter(testloader)\n",
    "images, labels = next(dataiter)\n",
    "\n",
    "model2 = Net()\n",
    "model2.load_state_dict(model_dict)\n",
    "correct_pred = {classname: 0 for classname in classes}\n",
    "total_pred = {classname: 0 for classname in classes}\n",
    "# Learning off\n",
    "with torch.no_grad():\n",
    "    for data in testloader:\n",
    "        images, labels = data\n",
    "        outputs = model2(images)\n",
    "        _, preds = torch.max(outputs.data, 1)\n",
    "        for label, pred in zip(labels, preds):\n",
    "            if label == pred:\n",
    "                correct_pred[classes[label]] += 1\n",
    "            total_pred[classes[label]] += 1\n",
    "\n",
    "accs = []\n",
    "for classname, correct_count in correct_pred.items():\n",
    "    accuracy = 100 * float(correct_count) / total_pred[classname]\n",
    "    accs.append(accuracy)\n",
    "    print(f'Accuracy for class: {classname:5s} is {accuracy:.1f} %')\n",
    "avg_acc = sum(accs) / len(accs)\n",
    "print(f'Total accuracy: {avg_acc:.1f} %')"
   ],
   "metadata": {
    "collapsed": false,
    "ExecuteTime": {
     "start_time": "2023-04-10T22:21:50.498669Z",
     "end_time": "2023-04-10T22:21:53.282906Z"
    }
   }
  },
  {
   "cell_type": "markdown",
   "source": [
    "Using Adam as the optimizer and LeakyReLU as the activation function, the model achieved 60.9% testing accuracy."
   ],
   "metadata": {
    "collapsed": false
   }
  },
  {
   "cell_type": "code",
   "execution_count": null,
   "outputs": [],
   "source": [],
   "metadata": {
    "collapsed": false
   }
  }
 ],
 "metadata": {
  "kernelspec": {
   "name": "py_ml",
   "language": "python",
   "display_name": "Python Machine Learning"
  },
  "language_info": {
   "codemirror_mode": {
    "name": "ipython",
    "version": 2
   },
   "file_extension": ".py",
   "mimetype": "text/x-python",
   "name": "python",
   "nbconvert_exporter": "python",
   "pygments_lexer": "ipython2",
   "version": "2.7.6"
  }
 },
 "nbformat": 4,
 "nbformat_minor": 0
}
