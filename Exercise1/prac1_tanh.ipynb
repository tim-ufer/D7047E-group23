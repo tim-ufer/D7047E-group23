{
 "cells": [
  {
   "cell_type": "raw",
   "source": [
    "E#%% md\n",
    "xercise 1 - Group 23"
   ],
   "metadata": {
    "collapsed": false,
    "pycharm": {
     "name": ""
    }
   }
  },
  {
   "cell_type": "code",
   "execution_count": 5,
   "metadata": {
    "collapsed": true,
    "ExecuteTime": {
     "start_time": "2023-04-10T22:27:52.117245Z",
     "end_time": "2023-04-10T22:27:52.140245Z"
    }
   },
   "outputs": [],
   "source": [
    "import torch\n",
    "import torchvision\n",
    "import torchvision.transforms as transforms\n",
    "import torch.nn as nn\n",
    "import torch.nn.functional as F\n",
    "import torch.optim as optim\n",
    "from torch.utils.tensorboard import SummaryWriter"
   ]
  },
  {
   "cell_type": "markdown",
   "source": [
    "#### Loading the data"
   ],
   "metadata": {
    "collapsed": false
   }
  },
  {
   "cell_type": "code",
   "execution_count": 6,
   "outputs": [
    {
     "name": "stdout",
     "output_type": "stream",
     "text": [
      "Files already downloaded and verified\n",
      "Files already downloaded and verified\n"
     ]
    }
   ],
   "source": [
    "transform = transforms.Compose([transforms.ToTensor(), transforms.Normalize((0.5, 0.5, 0.5), (0.5, 0.5, 0.5))])\n",
    "batch_size = 4\n",
    "\n",
    "trainset = torchvision.datasets.CIFAR10(root='./data', train=True, download=True, transform=transform)\n",
    "trainloader = torch.utils.data.DataLoader(trainset, batch_size=batch_size, shuffle=True, num_workers=0)\n",
    "\n",
    "testset = torchvision.datasets.CIFAR10(root='./data', train=False, download=True, transform=transform)\n",
    "testloader = torch.utils.data.DataLoader(testset, batch_size=batch_size, shuffle=False, num_workers=0)\n",
    "\n",
    "classes = ('plane', 'car', 'bird', 'cat', 'deer', 'dog', 'frog', 'horse', 'ship', 'truck')"
   ],
   "metadata": {
    "collapsed": false,
    "ExecuteTime": {
     "start_time": "2023-04-10T22:27:52.136246Z",
     "end_time": "2023-04-10T22:27:53.459336Z"
    }
   }
  },
  {
   "cell_type": "markdown",
   "source": [
    "#### Network class"
   ],
   "metadata": {
    "collapsed": false
   }
  },
  {
   "cell_type": "code",
   "execution_count": 7,
   "outputs": [],
   "source": [
    "class Net(nn.Module):\n",
    "    def __init__(self):\n",
    "        super().__init__()\n",
    "        self.conv1 = nn.Conv2d(3, 6, 5)\n",
    "        self.pool = nn.MaxPool2d(2, 2)\n",
    "        self.conv2 = nn.Conv2d(6, 16, 5)\n",
    "        self.fc1 = nn.Linear(16 * 5 * 5, 120)\n",
    "        self.fc2 = nn.Linear(120, 84)\n",
    "        self.fc3 = nn.Linear(84, 10)\n",
    "\n",
    "    def forward(self, x):\n",
    "        x = self.pool(F.tanh(self.conv1(x)))\n",
    "        x = self.pool(F.tanh(self.conv2(x)))\n",
    "        x = torch.flatten(x, 1)  # flatten all dimensions except batch\n",
    "        x = F.tanh(self.fc1(x))\n",
    "        x = F.tanh(self.fc2(x))\n",
    "        x = self.fc3(x)\n",
    "        return x"
   ],
   "metadata": {
    "collapsed": false,
    "ExecuteTime": {
     "start_time": "2023-04-10T22:27:53.430122Z",
     "end_time": "2023-04-10T22:27:53.460336Z"
    }
   }
  },
  {
   "cell_type": "markdown",
   "source": [
    "#### Training the network with SGD"
   ],
   "metadata": {
    "collapsed": false
   }
  },
  {
   "cell_type": "code",
   "execution_count": 8,
   "outputs": [
    {
     "name": "stdout",
     "output_type": "stream",
     "text": [
      "[1,  2000] loss: 2.307\n",
      "[1,  4000] loss: 2.305\n",
      "[1,  6000] loss: 2.301\n",
      "[1,  8000] loss: 2.299\n",
      "[1, 10000] loss: 2.296\n",
      "[1, 12000] loss: 2.293\n",
      "[2,  2000] loss: 2.288\n",
      "[2,  4000] loss: 2.285\n",
      "[2,  6000] loss: 2.279\n",
      "[2,  8000] loss: 2.272\n",
      "[2, 10000] loss: 2.264\n",
      "[2, 12000] loss: 2.255\n",
      "[3,  2000] loss: 2.237\n",
      "[3,  4000] loss: 2.227\n",
      "[3,  6000] loss: 2.210\n",
      "[3,  8000] loss: 2.201\n",
      "[3, 10000] loss: 2.181\n",
      "[3, 12000] loss: 2.168\n",
      "[4,  2000] loss: 2.153\n",
      "[4,  4000] loss: 2.138\n",
      "[4,  6000] loss: 2.133\n",
      "[4,  8000] loss: 2.111\n",
      "[4, 10000] loss: 2.103\n",
      "[4, 12000] loss: 2.092\n",
      "[5,  2000] loss: 2.072\n",
      "[5,  4000] loss: 2.063\n",
      "[5,  6000] loss: 2.049\n",
      "[5,  8000] loss: 2.039\n",
      "[5, 10000] loss: 2.032\n",
      "[5, 12000] loss: 2.035\n",
      "[6,  2000] loss: 2.018\n",
      "[6,  4000] loss: 2.006\n",
      "[6,  6000] loss: 2.001\n",
      "[6,  8000] loss: 1.999\n",
      "[6, 10000] loss: 1.991\n",
      "[6, 12000] loss: 1.982\n",
      "[7,  2000] loss: 1.980\n",
      "[7,  4000] loss: 1.974\n",
      "[7,  6000] loss: 1.973\n",
      "[7,  8000] loss: 1.963\n",
      "[7, 10000] loss: 1.962\n",
      "[7, 12000] loss: 1.965\n",
      "[8,  2000] loss: 1.965\n",
      "[8,  4000] loss: 1.948\n",
      "[8,  6000] loss: 1.942\n",
      "[8,  8000] loss: 1.940\n",
      "[8, 10000] loss: 1.943\n",
      "[8, 12000] loss: 1.944\n",
      "[9,  2000] loss: 1.934\n",
      "[9,  4000] loss: 1.931\n",
      "[9,  6000] loss: 1.925\n",
      "[9,  8000] loss: 1.938\n",
      "[9, 10000] loss: 1.920\n",
      "[9, 12000] loss: 1.912\n",
      "[10,  2000] loss: 1.910\n",
      "[10,  4000] loss: 1.911\n",
      "[10,  6000] loss: 1.909\n",
      "[10,  8000] loss: 1.898\n",
      "[10, 10000] loss: 1.889\n",
      "[10, 12000] loss: 1.901\n",
      "Finished Training\n"
     ]
    }
   ],
   "source": [
    "# Logging for tensorboard\n",
    "writer = SummaryWriter()\n",
    "\n",
    "model = Net()\n",
    "criterion = nn.CrossEntropyLoss()\n",
    "optimizer = optim.SGD(model.parameters(), lr=0.0001)\n",
    "\n",
    "for epoch in range(10):  # loop over the dataset multiple times\n",
    "    running_loss = 0.0\n",
    "    for i, data in enumerate(trainloader):\n",
    "        inputs, labels = data\n",
    "\n",
    "        optimizer.zero_grad()\n",
    "\n",
    "        # forward + backward + optimize\n",
    "        outputs = model(inputs)\n",
    "        loss = criterion(outputs, labels)\n",
    "        writer.add_scalar(\"Loss/train (SGD)\", loss, epoch*len(trainloader)+i)\n",
    "        loss.backward()\n",
    "        optimizer.step()\n",
    "\n",
    "        # print statistics\n",
    "        running_loss += loss.item()\n",
    "        if i % 2000 == 1999:  # print every 2000 mini-batches\n",
    "            print(f'[{epoch + 1}, {i + 1:5d}] loss: {running_loss / 2000:.3f}')\n",
    "            running_loss = 0.0\n",
    "\n",
    "print('Finished Training')\n",
    "model_dict = model.state_dict()\n",
    "writer.flush()\n",
    "writer.close()"
   ],
   "metadata": {
    "collapsed": false,
    "ExecuteTime": {
     "start_time": "2023-04-10T22:27:53.447321Z",
     "end_time": "2023-04-10T22:32:41.601097Z"
    }
   }
  },
  {
   "cell_type": "markdown",
   "source": [
    "#### Testing the network with SGD"
   ],
   "metadata": {
    "collapsed": false
   }
  },
  {
   "cell_type": "code",
   "execution_count": 9,
   "outputs": [
    {
     "name": "stdout",
     "output_type": "stream",
     "text": [
      "Accuracy for class: plane is 45.2 %\n",
      "Accuracy for class: car   is 41.8 %\n",
      "Accuracy for class: bird  is 3.6 %\n",
      "Accuracy for class: cat   is 7.9 %\n",
      "Accuracy for class: deer  is 7.0 %\n",
      "Accuracy for class: dog   is 35.3 %\n",
      "Accuracy for class: frog  is 64.2 %\n",
      "Accuracy for class: horse is 41.8 %\n",
      "Accuracy for class: ship  is 41.1 %\n",
      "Accuracy for class: truck is 42.1 %\n",
      "Total accuracy: 33.0 %\n"
     ]
    }
   ],
   "source": [
    "dataiter = iter(testloader)\n",
    "images, labels = next(dataiter)\n",
    "\n",
    "model2 = Net()\n",
    "model2.load_state_dict(model_dict)\n",
    "correct_pred = {classname: 0 for classname in classes}\n",
    "total_pred = {classname: 0 for classname in classes}\n",
    "# Learning off\n",
    "with torch.no_grad():\n",
    "    for data in testloader:\n",
    "        images, labels = data\n",
    "        outputs = model2(images)\n",
    "        _, preds = torch.max(outputs.data, 1)\n",
    "        for label, pred in zip(labels, preds):\n",
    "            if label == pred:\n",
    "                correct_pred[classes[label]] += 1\n",
    "            total_pred[classes[label]] += 1\n",
    "\n",
    "accs = []\n",
    "for classname, correct_count in correct_pred.items():\n",
    "    accuracy = 100 * float(correct_count) / total_pred[classname]\n",
    "    accs.append(accuracy)\n",
    "    print(f'Accuracy for class: {classname:5s} is {accuracy:.1f} %')\n",
    "avg_acc = sum(accs) / len(accs)\n",
    "print(f'Total accuracy: {avg_acc:.1f} %')"
   ],
   "metadata": {
    "collapsed": false,
    "ExecuteTime": {
     "start_time": "2023-04-10T22:32:41.601097Z",
     "end_time": "2023-04-10T22:32:44.184600Z"
    }
   }
  },
  {
   "cell_type": "markdown",
   "source": [
    "Using SGD as the optimizer and Tanh as the activation function, the model achieved 33% testing accuracy."
   ],
   "metadata": {
    "collapsed": false
   }
  },
  {
   "cell_type": "markdown",
   "source": [
    "#### Training the network with Adam"
   ],
   "metadata": {
    "collapsed": false
   }
  },
  {
   "cell_type": "code",
   "execution_count": 10,
   "outputs": [
    {
     "name": "stdout",
     "output_type": "stream",
     "text": [
      "[1,  2000] loss: 1.979\n",
      "[1,  4000] loss: 1.759\n",
      "[1,  6000] loss: 1.680\n",
      "[1,  8000] loss: 1.642\n",
      "[1, 10000] loss: 1.606\n",
      "[1, 12000] loss: 1.537\n",
      "[2,  2000] loss: 1.487\n",
      "[2,  4000] loss: 1.463\n",
      "[2,  6000] loss: 1.433\n",
      "[2,  8000] loss: 1.414\n",
      "[2, 10000] loss: 1.418\n",
      "[2, 12000] loss: 1.394\n",
      "[3,  2000] loss: 1.339\n",
      "[3,  4000] loss: 1.340\n",
      "[3,  6000] loss: 1.354\n",
      "[3,  8000] loss: 1.317\n",
      "[3, 10000] loss: 1.331\n",
      "[3, 12000] loss: 1.315\n",
      "[4,  2000] loss: 1.262\n",
      "[4,  4000] loss: 1.259\n",
      "[4,  6000] loss: 1.263\n",
      "[4,  8000] loss: 1.271\n",
      "[4, 10000] loss: 1.241\n",
      "[4, 12000] loss: 1.249\n",
      "[5,  2000] loss: 1.197\n",
      "[5,  4000] loss: 1.219\n",
      "[5,  6000] loss: 1.213\n",
      "[5,  8000] loss: 1.193\n",
      "[5, 10000] loss: 1.177\n",
      "[5, 12000] loss: 1.179\n",
      "[6,  2000] loss: 1.145\n",
      "[6,  4000] loss: 1.154\n",
      "[6,  6000] loss: 1.178\n",
      "[6,  8000] loss: 1.142\n",
      "[6, 10000] loss: 1.132\n",
      "[6, 12000] loss: 1.126\n",
      "[7,  2000] loss: 1.099\n",
      "[7,  4000] loss: 1.110\n",
      "[7,  6000] loss: 1.110\n",
      "[7,  8000] loss: 1.096\n",
      "[7, 10000] loss: 1.110\n",
      "[7, 12000] loss: 1.099\n",
      "[8,  2000] loss: 1.064\n",
      "[8,  4000] loss: 1.066\n",
      "[8,  6000] loss: 1.068\n",
      "[8,  8000] loss: 1.078\n",
      "[8, 10000] loss: 1.049\n",
      "[8, 12000] loss: 1.071\n",
      "[9,  2000] loss: 1.040\n",
      "[9,  4000] loss: 1.028\n",
      "[9,  6000] loss: 1.063\n",
      "[9,  8000] loss: 1.020\n",
      "[9, 10000] loss: 1.015\n",
      "[9, 12000] loss: 1.028\n",
      "[10,  2000] loss: 0.987\n",
      "[10,  4000] loss: 0.990\n",
      "[10,  6000] loss: 1.007\n",
      "[10,  8000] loss: 1.012\n",
      "[10, 10000] loss: 1.009\n",
      "[10, 12000] loss: 1.006\n",
      "Finished Training\n"
     ]
    }
   ],
   "source": [
    "# Logging for tensorboard\n",
    "writer = SummaryWriter()\n",
    "\n",
    "model = Net()\n",
    "criterion = nn.CrossEntropyLoss()\n",
    "optimizer = optim.Adam(model.parameters(), lr=0.0001)\n",
    "\n",
    "for epoch in range(10):  # loop over the dataset multiple times\n",
    "    running_loss = 0.0\n",
    "    for i, data in enumerate(trainloader):\n",
    "        inputs, labels = data\n",
    "\n",
    "        optimizer.zero_grad()\n",
    "\n",
    "        # forward + backward + optimize\n",
    "        outputs = model(inputs)\n",
    "        loss = criterion(outputs, labels)\n",
    "        writer.add_scalar(\"Loss/train (Adam)\", loss, epoch*len(trainloader)+i)\n",
    "        loss.backward()\n",
    "        optimizer.step()\n",
    "\n",
    "        # print statistics\n",
    "        running_loss += loss.item()\n",
    "        if i % 2000 == 1999:  # print every 2000 mini-batches\n",
    "            print(f'[{epoch + 1}, {i + 1:5d}] loss: {running_loss / 2000:.3f}')\n",
    "            running_loss = 0.0\n",
    "\n",
    "print('Finished Training')\n",
    "model_dict = model.state_dict()\n",
    "writer.flush()\n",
    "writer.close()"
   ],
   "metadata": {
    "collapsed": false,
    "ExecuteTime": {
     "start_time": "2023-04-10T22:32:44.186600Z",
     "end_time": "2023-04-10T22:38:27.960338Z"
    }
   }
  },
  {
   "cell_type": "markdown",
   "source": [],
   "metadata": {
    "collapsed": false
   }
  },
  {
   "cell_type": "code",
   "execution_count": 11,
   "outputs": [],
   "source": [
    "#### Testing the network with Adam"
   ],
   "metadata": {
    "collapsed": false,
    "ExecuteTime": {
     "start_time": "2023-04-10T22:38:27.962339Z",
     "end_time": "2023-04-10T22:38:27.975836Z"
    }
   }
  },
  {
   "cell_type": "code",
   "execution_count": 12,
   "outputs": [
    {
     "name": "stdout",
     "output_type": "stream",
     "text": [
      "Accuracy for class: plane is 69.4 %\n",
      "Accuracy for class: car   is 71.7 %\n",
      "Accuracy for class: bird  is 43.4 %\n",
      "Accuracy for class: cat   is 42.0 %\n",
      "Accuracy for class: deer  is 52.1 %\n",
      "Accuracy for class: dog   is 58.7 %\n",
      "Accuracy for class: frog  is 74.7 %\n",
      "Accuracy for class: horse is 66.1 %\n",
      "Accuracy for class: ship  is 74.1 %\n",
      "Accuracy for class: truck is 72.3 %\n",
      "Total accuracy: 62.5 %\n"
     ]
    }
   ],
   "source": [
    "dataiter = iter(testloader)\n",
    "images, labels = next(dataiter)\n",
    "\n",
    "model2 = Net()\n",
    "model2.load_state_dict(model_dict)\n",
    "correct_pred = {classname: 0 for classname in classes}\n",
    "total_pred = {classname: 0 for classname in classes}\n",
    "# Learning off\n",
    "with torch.no_grad():\n",
    "    for data in testloader:\n",
    "        images, labels = data\n",
    "        outputs = model2(images)\n",
    "        _, preds = torch.max(outputs.data, 1)\n",
    "        for label, pred in zip(labels, preds):\n",
    "            if label == pred:\n",
    "                correct_pred[classes[label]] += 1\n",
    "            total_pred[classes[label]] += 1\n",
    "\n",
    "accs = []\n",
    "for classname, correct_count in correct_pred.items():\n",
    "    accuracy = 100 * float(correct_count) / total_pred[classname]\n",
    "    accs.append(accuracy)\n",
    "    print(f'Accuracy for class: {classname:5s} is {accuracy:.1f} %')\n",
    "avg_acc = sum(accs) / len(accs)\n",
    "print(f'Total accuracy: {avg_acc:.1f} %')"
   ],
   "metadata": {
    "collapsed": false,
    "ExecuteTime": {
     "start_time": "2023-04-10T22:38:27.977340Z",
     "end_time": "2023-04-10T22:38:30.588547Z"
    }
   }
  },
  {
   "cell_type": "markdown",
   "source": [
    "Using Adam as the optimizer and Tanh as the activation function, the model achieved 62.5% testing accuracy."
   ],
   "metadata": {
    "collapsed": false
   }
  },
  {
   "cell_type": "code",
   "execution_count": null,
   "outputs": [],
   "source": [],
   "metadata": {
    "collapsed": false
   }
  }
 ],
 "metadata": {
  "kernelspec": {
   "name": "py_ml",
   "language": "python",
   "display_name": "Python Machine Learning"
  },
  "language_info": {
   "codemirror_mode": {
    "name": "ipython",
    "version": 2
   },
   "file_extension": ".py",
   "mimetype": "text/x-python",
   "name": "python",
   "nbconvert_exporter": "python",
   "pygments_lexer": "ipython2",
   "version": "2.7.6"
  }
 },
 "nbformat": 4,
 "nbformat_minor": 0
}
